{
 "cells": [
  {
   "cell_type": "markdown",
   "metadata": {},
   "source": [
    "# Datalabframework\n",
    "\n",
    "The datalabframework is a productivity framework for ETL, ML application. Simplifying some of the common activities which are typical in Data pipeline such as project scaffolding, data ingesting, start schema generation, forecasting etc."
   ]
  },
  {
   "cell_type": "markdown",
   "metadata": {},
   "source": [
    "## Scaffolding\n",
    "\n",
    "  - The minimal setup requires (main.ipynb)\n",
    "  - A directory structure for code and data processing (data)\n",
    "  - The datalabframework python package (datalabframework)\n",
    "  - Configuration files (metadata.yml, \\__main__.py, Makefile)\n",
    "  "
   ]
  },
  {
   "cell_type": "markdown",
   "metadata": {},
   "source": [
    "## Elements\n",
    "\n",
    "This ETL/Data Science scaffolding works using a number of elements:\n",
    "\n",
    "  - The introductory python notebook you are reading now (main.ipynb)\n",
    "  - A directory structure for code and data processing (data)\n",
    "  - The datalabframework python package (datalabframework)\n",
    "  - Configuration files (metadata.yml, \\__main__.py, Makefile)"
   ]
  },
  {
   "cell_type": "markdown",
   "metadata": {},
   "source": [
    "## Project Template\n",
    "\n",
    "The data science project is structured in a way to facilitate the deployment of the artifacts, and to switch from batch processing to live experimentation. The top level project is composed of the following items:"
   ]
  },
  {
   "cell_type": "markdown",
   "metadata": {},
   "source": [
    "### Top level Structure\n",
    "\n",
    "```\n",
    "├── binder\n",
    "├── ci\n",
    "├── data\n",
    "├── resources\n",
    "├── src\n",
    "├── test\n",
    "│\n",
    "├── main.ipynb\n",
    "├── versions.ipynb\n",
    "│\n",
    "├── __main__.py\n",
    "├── metadata.yml\n",
    "│\n",
    "└── Makefile\n",
    "\n",
    "```"
   ]
  },
  {
   "cell_type": "code",
   "execution_count": null,
   "metadata": {},
   "outputs": [],
   "source": [
    "! datalabframework "
   ]
  }
 ],
 "metadata": {
  "kernelspec": {
   "display_name": "Python 3",
   "language": "python",
   "name": "python3"
  },
  "language_info": {
   "codemirror_mode": {
    "name": "ipython",
    "version": 3
   },
   "file_extension": ".py",
   "mimetype": "text/x-python",
   "name": "python",
   "nbconvert_exporter": "python",
   "pygments_lexer": "ipython3",
   "version": "3.6.3"
  }
 },
 "nbformat": 4,
 "nbformat_minor": 2
}
